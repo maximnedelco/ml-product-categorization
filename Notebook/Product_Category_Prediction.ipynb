{
  "nbformat": 4,
  "nbformat_minor": 0,
  "metadata": {
    "colab": {
      "provenance": [],
      "authorship_tag": "ABX9TyOj2mbVSiZqTKxfmtO744XB",
      "include_colab_link": true
    },
    "kernelspec": {
      "name": "python3",
      "display_name": "Python 3"
    },
    "language_info": {
      "name": "python"
    }
  },
  "cells": [
    {
      "cell_type": "markdown",
      "metadata": {
        "id": "view-in-github",
        "colab_type": "text"
      },
      "source": [
        "<a href=\"https://colab.research.google.com/github/maximnedelco/ml-product-categorization/blob/main/Notebook/Product_Category_Prediction.ipynb\" target=\"_parent\"><img src=\"https://colab.research.google.com/assets/colab-badge.svg\" alt=\"Open In Colab\"/></a>"
      ]
    },
    {
      "cell_type": "markdown",
      "source": [
        "# **Title:** ML-product-categorization\n",
        "## **Author:** Nedelco Maxim\n",
        "Main goal:\n",
        "Machine learning project for predicting product categories based on product titles.\n"
      ],
      "metadata": {
        "id": "mlyVB56zWndD"
      }
    },
    {
      "cell_type": "markdown",
      "source": [
        "#Importarea librariilor"
      ],
      "metadata": {
        "id": "zLaPKPEeXOAM"
      }
    },
    {
      "cell_type": "code",
      "execution_count": 51,
      "metadata": {
        "id": "0PeC0rgAWJmV"
      },
      "outputs": [],
      "source": [
        "# Importing libraries\n",
        "import pandas as pd\n",
        "import matplotlib.pyplot as plt\n",
        "from sklearn.model_selection import train_test_split\n",
        "from sklearn.feature_extraction.text import TfidfVectorizer\n",
        "from sklearn.linear_model import LogisticRegression\n",
        "from sklearn.naive_bayes import MultinomialNB\n",
        "from sklearn.tree import DecisionTreeClassifier\n",
        "from sklearn.svm import LinearSVC\n",
        "from sklearn.metrics import classification_report, accuracy_score, confusion_matrix\n",
        "import seaborn as sns"
      ]
    },
    {
      "cell_type": "markdown",
      "source": [
        "## Load dataset"
      ],
      "metadata": {
        "id": "OF1SMVOVX0uD"
      }
    },
    {
      "cell_type": "code",
      "source": [
        "url = \"https://github.com/maximnedelco/ml-product-categorization/raw/refs/heads/main/data/IMLP4_TASK_03-products.csv\"\n",
        "df = pd.read_csv(url)\n",
        "df.columns = df.columns.str.lower().str.strip()\n",
        "df.head(10)\n"
      ],
      "metadata": {
        "colab": {
          "base_uri": "https://localhost:8080/",
          "height": 363
        },
        "id": "vuEQggqBZjyY",
        "outputId": "5060115b-a0e9-4cb8-b824-3b48dff1ab5f"
      },
      "execution_count": 52,
      "outputs": [
        {
          "output_type": "execute_result",
          "data": {
            "text/plain": [
              "   product id                                      product title  merchant id  \\\n",
              "0           1                    apple iphone 8 plus 64gb silver            1   \n",
              "1           2                apple iphone 8 plus 64 gb spacegrau            2   \n",
              "2           3  apple mq8n2b/a iphone 8 plus 64gb 5.5 12mp sim...            3   \n",
              "3           4                apple iphone 8 plus 64gb space grey            4   \n",
              "4           5  apple iphone 8 plus gold 5.5 64gb 4g unlocked ...            5   \n",
              "5           6  apple iphone 8 plus gold 5.5 64gb 4g unlocked ...            6   \n",
              "6           7               apple iphone 8 plus 64 gb space grey            7   \n",
              "7           8                apple iphone 8 plus 64gb space grey            8   \n",
              "8           9                apple iphone 8 plus 64gb space grey            9   \n",
              "9          10                apple iphone 8 plus 64gb space grey           10   \n",
              "\n",
              "  category label _product code  number_of_views  merchant rating listing date  \n",
              "0  Mobile Phones    QA-2276-XC            860.0              2.5    5/10/2024  \n",
              "1  Mobile Phones    KA-2501-QO           3772.0              4.8   12/31/2024  \n",
              "2  Mobile Phones    FP-8086-IE           3092.0              3.9   11/10/2024  \n",
              "3  Mobile Phones    YI-0086-US            466.0              3.4     5/2/2022  \n",
              "4  Mobile Phones    NZ-3586-WP           4426.0              1.6    4/12/2023  \n",
              "5  Mobile Phones    SB-2202-CH           3444.0              1.6   11/27/2022  \n",
              "6  Mobile Phones    QJ-3229-QP           3171.0              1.2    3/29/2022  \n",
              "7  Mobile Phones    ES-1396-OR           2919.0              4.5    5/21/2024  \n",
              "8  Mobile Phones    VU-2032-FY            130.0              3.4    5/11/2022  \n",
              "9  Mobile Phones    WI-6394-GG           1685.0              3.8     2/9/2024  "
            ],
            "text/html": [
              "\n",
              "  <div id=\"df-6b0b460e-df08-46b5-bd47-efd3846f92f5\" class=\"colab-df-container\">\n",
              "    <div>\n",
              "<style scoped>\n",
              "    .dataframe tbody tr th:only-of-type {\n",
              "        vertical-align: middle;\n",
              "    }\n",
              "\n",
              "    .dataframe tbody tr th {\n",
              "        vertical-align: top;\n",
              "    }\n",
              "\n",
              "    .dataframe thead th {\n",
              "        text-align: right;\n",
              "    }\n",
              "</style>\n",
              "<table border=\"1\" class=\"dataframe\">\n",
              "  <thead>\n",
              "    <tr style=\"text-align: right;\">\n",
              "      <th></th>\n",
              "      <th>product id</th>\n",
              "      <th>product title</th>\n",
              "      <th>merchant id</th>\n",
              "      <th>category label</th>\n",
              "      <th>_product code</th>\n",
              "      <th>number_of_views</th>\n",
              "      <th>merchant rating</th>\n",
              "      <th>listing date</th>\n",
              "    </tr>\n",
              "  </thead>\n",
              "  <tbody>\n",
              "    <tr>\n",
              "      <th>0</th>\n",
              "      <td>1</td>\n",
              "      <td>apple iphone 8 plus 64gb silver</td>\n",
              "      <td>1</td>\n",
              "      <td>Mobile Phones</td>\n",
              "      <td>QA-2276-XC</td>\n",
              "      <td>860.0</td>\n",
              "      <td>2.5</td>\n",
              "      <td>5/10/2024</td>\n",
              "    </tr>\n",
              "    <tr>\n",
              "      <th>1</th>\n",
              "      <td>2</td>\n",
              "      <td>apple iphone 8 plus 64 gb spacegrau</td>\n",
              "      <td>2</td>\n",
              "      <td>Mobile Phones</td>\n",
              "      <td>KA-2501-QO</td>\n",
              "      <td>3772.0</td>\n",
              "      <td>4.8</td>\n",
              "      <td>12/31/2024</td>\n",
              "    </tr>\n",
              "    <tr>\n",
              "      <th>2</th>\n",
              "      <td>3</td>\n",
              "      <td>apple mq8n2b/a iphone 8 plus 64gb 5.5 12mp sim...</td>\n",
              "      <td>3</td>\n",
              "      <td>Mobile Phones</td>\n",
              "      <td>FP-8086-IE</td>\n",
              "      <td>3092.0</td>\n",
              "      <td>3.9</td>\n",
              "      <td>11/10/2024</td>\n",
              "    </tr>\n",
              "    <tr>\n",
              "      <th>3</th>\n",
              "      <td>4</td>\n",
              "      <td>apple iphone 8 plus 64gb space grey</td>\n",
              "      <td>4</td>\n",
              "      <td>Mobile Phones</td>\n",
              "      <td>YI-0086-US</td>\n",
              "      <td>466.0</td>\n",
              "      <td>3.4</td>\n",
              "      <td>5/2/2022</td>\n",
              "    </tr>\n",
              "    <tr>\n",
              "      <th>4</th>\n",
              "      <td>5</td>\n",
              "      <td>apple iphone 8 plus gold 5.5 64gb 4g unlocked ...</td>\n",
              "      <td>5</td>\n",
              "      <td>Mobile Phones</td>\n",
              "      <td>NZ-3586-WP</td>\n",
              "      <td>4426.0</td>\n",
              "      <td>1.6</td>\n",
              "      <td>4/12/2023</td>\n",
              "    </tr>\n",
              "    <tr>\n",
              "      <th>5</th>\n",
              "      <td>6</td>\n",
              "      <td>apple iphone 8 plus gold 5.5 64gb 4g unlocked ...</td>\n",
              "      <td>6</td>\n",
              "      <td>Mobile Phones</td>\n",
              "      <td>SB-2202-CH</td>\n",
              "      <td>3444.0</td>\n",
              "      <td>1.6</td>\n",
              "      <td>11/27/2022</td>\n",
              "    </tr>\n",
              "    <tr>\n",
              "      <th>6</th>\n",
              "      <td>7</td>\n",
              "      <td>apple iphone 8 plus 64 gb space grey</td>\n",
              "      <td>7</td>\n",
              "      <td>Mobile Phones</td>\n",
              "      <td>QJ-3229-QP</td>\n",
              "      <td>3171.0</td>\n",
              "      <td>1.2</td>\n",
              "      <td>3/29/2022</td>\n",
              "    </tr>\n",
              "    <tr>\n",
              "      <th>7</th>\n",
              "      <td>8</td>\n",
              "      <td>apple iphone 8 plus 64gb space grey</td>\n",
              "      <td>8</td>\n",
              "      <td>Mobile Phones</td>\n",
              "      <td>ES-1396-OR</td>\n",
              "      <td>2919.0</td>\n",
              "      <td>4.5</td>\n",
              "      <td>5/21/2024</td>\n",
              "    </tr>\n",
              "    <tr>\n",
              "      <th>8</th>\n",
              "      <td>9</td>\n",
              "      <td>apple iphone 8 plus 64gb space grey</td>\n",
              "      <td>9</td>\n",
              "      <td>Mobile Phones</td>\n",
              "      <td>VU-2032-FY</td>\n",
              "      <td>130.0</td>\n",
              "      <td>3.4</td>\n",
              "      <td>5/11/2022</td>\n",
              "    </tr>\n",
              "    <tr>\n",
              "      <th>9</th>\n",
              "      <td>10</td>\n",
              "      <td>apple iphone 8 plus 64gb space grey</td>\n",
              "      <td>10</td>\n",
              "      <td>Mobile Phones</td>\n",
              "      <td>WI-6394-GG</td>\n",
              "      <td>1685.0</td>\n",
              "      <td>3.8</td>\n",
              "      <td>2/9/2024</td>\n",
              "    </tr>\n",
              "  </tbody>\n",
              "</table>\n",
              "</div>\n",
              "    <div class=\"colab-df-buttons\">\n",
              "\n",
              "  <div class=\"colab-df-container\">\n",
              "    <button class=\"colab-df-convert\" onclick=\"convertToInteractive('df-6b0b460e-df08-46b5-bd47-efd3846f92f5')\"\n",
              "            title=\"Convert this dataframe to an interactive table.\"\n",
              "            style=\"display:none;\">\n",
              "\n",
              "  <svg xmlns=\"http://www.w3.org/2000/svg\" height=\"24px\" viewBox=\"0 -960 960 960\">\n",
              "    <path d=\"M120-120v-720h720v720H120Zm60-500h600v-160H180v160Zm220 220h160v-160H400v160Zm0 220h160v-160H400v160ZM180-400h160v-160H180v160Zm440 0h160v-160H620v160ZM180-180h160v-160H180v160Zm440 0h160v-160H620v160Z\"/>\n",
              "  </svg>\n",
              "    </button>\n",
              "\n",
              "  <style>\n",
              "    .colab-df-container {\n",
              "      display:flex;\n",
              "      gap: 12px;\n",
              "    }\n",
              "\n",
              "    .colab-df-convert {\n",
              "      background-color: #E8F0FE;\n",
              "      border: none;\n",
              "      border-radius: 50%;\n",
              "      cursor: pointer;\n",
              "      display: none;\n",
              "      fill: #1967D2;\n",
              "      height: 32px;\n",
              "      padding: 0 0 0 0;\n",
              "      width: 32px;\n",
              "    }\n",
              "\n",
              "    .colab-df-convert:hover {\n",
              "      background-color: #E2EBFA;\n",
              "      box-shadow: 0px 1px 2px rgba(60, 64, 67, 0.3), 0px 1px 3px 1px rgba(60, 64, 67, 0.15);\n",
              "      fill: #174EA6;\n",
              "    }\n",
              "\n",
              "    .colab-df-buttons div {\n",
              "      margin-bottom: 4px;\n",
              "    }\n",
              "\n",
              "    [theme=dark] .colab-df-convert {\n",
              "      background-color: #3B4455;\n",
              "      fill: #D2E3FC;\n",
              "    }\n",
              "\n",
              "    [theme=dark] .colab-df-convert:hover {\n",
              "      background-color: #434B5C;\n",
              "      box-shadow: 0px 1px 3px 1px rgba(0, 0, 0, 0.15);\n",
              "      filter: drop-shadow(0px 1px 2px rgba(0, 0, 0, 0.3));\n",
              "      fill: #FFFFFF;\n",
              "    }\n",
              "  </style>\n",
              "\n",
              "    <script>\n",
              "      const buttonEl =\n",
              "        document.querySelector('#df-6b0b460e-df08-46b5-bd47-efd3846f92f5 button.colab-df-convert');\n",
              "      buttonEl.style.display =\n",
              "        google.colab.kernel.accessAllowed ? 'block' : 'none';\n",
              "\n",
              "      async function convertToInteractive(key) {\n",
              "        const element = document.querySelector('#df-6b0b460e-df08-46b5-bd47-efd3846f92f5');\n",
              "        const dataTable =\n",
              "          await google.colab.kernel.invokeFunction('convertToInteractive',\n",
              "                                                    [key], {});\n",
              "        if (!dataTable) return;\n",
              "\n",
              "        const docLinkHtml = 'Like what you see? Visit the ' +\n",
              "          '<a target=\"_blank\" href=https://colab.research.google.com/notebooks/data_table.ipynb>data table notebook</a>'\n",
              "          + ' to learn more about interactive tables.';\n",
              "        element.innerHTML = '';\n",
              "        dataTable['output_type'] = 'display_data';\n",
              "        await google.colab.output.renderOutput(dataTable, element);\n",
              "        const docLink = document.createElement('div');\n",
              "        docLink.innerHTML = docLinkHtml;\n",
              "        element.appendChild(docLink);\n",
              "      }\n",
              "    </script>\n",
              "  </div>\n",
              "\n",
              "\n",
              "    <div id=\"df-42f9644c-355f-400d-a8ae-f89c26ba22fe\">\n",
              "      <button class=\"colab-df-quickchart\" onclick=\"quickchart('df-42f9644c-355f-400d-a8ae-f89c26ba22fe')\"\n",
              "                title=\"Suggest charts\"\n",
              "                style=\"display:none;\">\n",
              "\n",
              "<svg xmlns=\"http://www.w3.org/2000/svg\" height=\"24px\"viewBox=\"0 0 24 24\"\n",
              "     width=\"24px\">\n",
              "    <g>\n",
              "        <path d=\"M19 3H5c-1.1 0-2 .9-2 2v14c0 1.1.9 2 2 2h14c1.1 0 2-.9 2-2V5c0-1.1-.9-2-2-2zM9 17H7v-7h2v7zm4 0h-2V7h2v10zm4 0h-2v-4h2v4z\"/>\n",
              "    </g>\n",
              "</svg>\n",
              "      </button>\n",
              "\n",
              "<style>\n",
              "  .colab-df-quickchart {\n",
              "      --bg-color: #E8F0FE;\n",
              "      --fill-color: #1967D2;\n",
              "      --hover-bg-color: #E2EBFA;\n",
              "      --hover-fill-color: #174EA6;\n",
              "      --disabled-fill-color: #AAA;\n",
              "      --disabled-bg-color: #DDD;\n",
              "  }\n",
              "\n",
              "  [theme=dark] .colab-df-quickchart {\n",
              "      --bg-color: #3B4455;\n",
              "      --fill-color: #D2E3FC;\n",
              "      --hover-bg-color: #434B5C;\n",
              "      --hover-fill-color: #FFFFFF;\n",
              "      --disabled-bg-color: #3B4455;\n",
              "      --disabled-fill-color: #666;\n",
              "  }\n",
              "\n",
              "  .colab-df-quickchart {\n",
              "    background-color: var(--bg-color);\n",
              "    border: none;\n",
              "    border-radius: 50%;\n",
              "    cursor: pointer;\n",
              "    display: none;\n",
              "    fill: var(--fill-color);\n",
              "    height: 32px;\n",
              "    padding: 0;\n",
              "    width: 32px;\n",
              "  }\n",
              "\n",
              "  .colab-df-quickchart:hover {\n",
              "    background-color: var(--hover-bg-color);\n",
              "    box-shadow: 0 1px 2px rgba(60, 64, 67, 0.3), 0 1px 3px 1px rgba(60, 64, 67, 0.15);\n",
              "    fill: var(--button-hover-fill-color);\n",
              "  }\n",
              "\n",
              "  .colab-df-quickchart-complete:disabled,\n",
              "  .colab-df-quickchart-complete:disabled:hover {\n",
              "    background-color: var(--disabled-bg-color);\n",
              "    fill: var(--disabled-fill-color);\n",
              "    box-shadow: none;\n",
              "  }\n",
              "\n",
              "  .colab-df-spinner {\n",
              "    border: 2px solid var(--fill-color);\n",
              "    border-color: transparent;\n",
              "    border-bottom-color: var(--fill-color);\n",
              "    animation:\n",
              "      spin 1s steps(1) infinite;\n",
              "  }\n",
              "\n",
              "  @keyframes spin {\n",
              "    0% {\n",
              "      border-color: transparent;\n",
              "      border-bottom-color: var(--fill-color);\n",
              "      border-left-color: var(--fill-color);\n",
              "    }\n",
              "    20% {\n",
              "      border-color: transparent;\n",
              "      border-left-color: var(--fill-color);\n",
              "      border-top-color: var(--fill-color);\n",
              "    }\n",
              "    30% {\n",
              "      border-color: transparent;\n",
              "      border-left-color: var(--fill-color);\n",
              "      border-top-color: var(--fill-color);\n",
              "      border-right-color: var(--fill-color);\n",
              "    }\n",
              "    40% {\n",
              "      border-color: transparent;\n",
              "      border-right-color: var(--fill-color);\n",
              "      border-top-color: var(--fill-color);\n",
              "    }\n",
              "    60% {\n",
              "      border-color: transparent;\n",
              "      border-right-color: var(--fill-color);\n",
              "    }\n",
              "    80% {\n",
              "      border-color: transparent;\n",
              "      border-right-color: var(--fill-color);\n",
              "      border-bottom-color: var(--fill-color);\n",
              "    }\n",
              "    90% {\n",
              "      border-color: transparent;\n",
              "      border-bottom-color: var(--fill-color);\n",
              "    }\n",
              "  }\n",
              "</style>\n",
              "\n",
              "      <script>\n",
              "        async function quickchart(key) {\n",
              "          const quickchartButtonEl =\n",
              "            document.querySelector('#' + key + ' button');\n",
              "          quickchartButtonEl.disabled = true;  // To prevent multiple clicks.\n",
              "          quickchartButtonEl.classList.add('colab-df-spinner');\n",
              "          try {\n",
              "            const charts = await google.colab.kernel.invokeFunction(\n",
              "                'suggestCharts', [key], {});\n",
              "          } catch (error) {\n",
              "            console.error('Error during call to suggestCharts:', error);\n",
              "          }\n",
              "          quickchartButtonEl.classList.remove('colab-df-spinner');\n",
              "          quickchartButtonEl.classList.add('colab-df-quickchart-complete');\n",
              "        }\n",
              "        (() => {\n",
              "          let quickchartButtonEl =\n",
              "            document.querySelector('#df-42f9644c-355f-400d-a8ae-f89c26ba22fe button');\n",
              "          quickchartButtonEl.style.display =\n",
              "            google.colab.kernel.accessAllowed ? 'block' : 'none';\n",
              "        })();\n",
              "      </script>\n",
              "    </div>\n",
              "    </div>\n",
              "  </div>\n"
            ],
            "application/vnd.google.colaboratory.intrinsic+json": {
              "type": "dataframe",
              "variable_name": "df",
              "summary": "{\n  \"name\": \"df\",\n  \"rows\": 35311,\n  \"fields\": [\n    {\n      \"column\": \"product id\",\n      \"properties\": {\n        \"dtype\": \"number\",\n        \"std\": 13498,\n        \"min\": 1,\n        \"max\": 47358,\n        \"num_unique_values\": 35311,\n        \"samples\": [\n          43860,\n          10748,\n          429\n        ],\n        \"semantic_type\": \"\",\n        \"description\": \"\"\n      }\n    },\n    {\n      \"column\": \"product title\",\n      \"properties\": {\n        \"dtype\": \"string\",\n        \"num_unique_values\": 30860,\n        \"samples\": [\n          \"hotpoint sial11010p dishwasher aquarius slimline 10 place a rated white\",\n          \"iceking rz82ap 50cm wide under counter freezer\",\n          \"indesit si81qwd fridge white\"\n        ],\n        \"semantic_type\": \"\",\n        \"description\": \"\"\n      }\n    },\n    {\n      \"column\": \"merchant id\",\n      \"properties\": {\n        \"dtype\": \"number\",\n        \"std\": 117,\n        \"min\": 1,\n        \"max\": 371,\n        \"num_unique_values\": 306,\n        \"samples\": [\n          96,\n          185,\n          146\n        ],\n        \"semantic_type\": \"\",\n        \"description\": \"\"\n      }\n    },\n    {\n      \"column\": \"category label\",\n      \"properties\": {\n        \"dtype\": \"category\",\n        \"num_unique_values\": 13,\n        \"samples\": [\n          \"Fridges\",\n          \"Freezers\",\n          \"Mobile Phones\"\n        ],\n        \"semantic_type\": \"\",\n        \"description\": \"\"\n      }\n    },\n    {\n      \"column\": \"_product code\",\n      \"properties\": {\n        \"dtype\": \"string\",\n        \"num_unique_values\": 35216,\n        \"samples\": [\n          \"CH-1511-FT\",\n          \"QW-7482-JF\",\n          \"YB-0719-BX\"\n        ],\n        \"semantic_type\": \"\",\n        \"description\": \"\"\n      }\n    },\n    {\n      \"column\": \"number_of_views\",\n      \"properties\": {\n        \"dtype\": \"number\",\n        \"std\": 1438.2176973767325,\n        \"min\": 0.0,\n        \"max\": 5000.0,\n        \"num_unique_values\": 4999,\n        \"samples\": [\n          2568.0,\n          4410.0,\n          3504.0\n        ],\n        \"semantic_type\": \"\",\n        \"description\": \"\"\n      }\n    },\n    {\n      \"column\": \"merchant rating\",\n      \"properties\": {\n        \"dtype\": \"number\",\n        \"std\": 1.1526641798795532,\n        \"min\": 1.0,\n        \"max\": 5.0,\n        \"num_unique_values\": 41,\n        \"samples\": [\n          4.6,\n          2.2,\n          1.1\n        ],\n        \"semantic_type\": \"\",\n        \"description\": \"\"\n      }\n    },\n    {\n      \"column\": \"listing date\",\n      \"properties\": {\n        \"dtype\": \"object\",\n        \"num_unique_values\": 1096,\n        \"samples\": [\n          \"2/15/2024\",\n          \"3/31/2024\",\n          \"9/27/2022\"\n        ],\n        \"semantic_type\": \"\",\n        \"description\": \"\"\n      }\n    }\n  ]\n}"
            }
          },
          "metadata": {},
          "execution_count": 52
        }
      ]
    },
    {
      "cell_type": "markdown",
      "source": [
        "## Data exploration\n"
      ],
      "metadata": {
        "id": "51anbVoXZxRf"
      }
    },
    {
      "cell_type": "code",
      "source": [
        "df.info()\n",
        "df.isna().sum()\n",
        "print(df['category label'].value_counts())\n",
        "df.dtypes\n",
        "\n"
      ],
      "metadata": {
        "colab": {
          "base_uri": "https://localhost:8080/",
          "height": 871
        },
        "id": "HeCW2zrraS0x",
        "outputId": "db5b0ccf-887a-45bf-f4ea-1d0fb04220b9"
      },
      "execution_count": 53,
      "outputs": [
        {
          "output_type": "stream",
          "name": "stdout",
          "text": [
            "<class 'pandas.core.frame.DataFrame'>\n",
            "RangeIndex: 35311 entries, 0 to 35310\n",
            "Data columns (total 8 columns):\n",
            " #   Column           Non-Null Count  Dtype  \n",
            "---  ------           --------------  -----  \n",
            " 0   product id       35311 non-null  int64  \n",
            " 1   product title    35139 non-null  object \n",
            " 2   merchant id      35311 non-null  int64  \n",
            " 3   category label   35267 non-null  object \n",
            " 4   _product code    35216 non-null  object \n",
            " 5   number_of_views  35297 non-null  float64\n",
            " 6   merchant rating  35141 non-null  float64\n",
            " 7   listing date     35252 non-null  object \n",
            "dtypes: float64(2), int64(2), object(4)\n",
            "memory usage: 2.2+ MB\n",
            "category label\n",
            "Fridge Freezers     5495\n",
            "Washing Machines    4036\n",
            "Mobile Phones       4020\n",
            "CPUs                3771\n",
            "TVs                 3564\n",
            "Fridges             3457\n",
            "Dishwashers         3418\n",
            "Digital Cameras     2696\n",
            "Microwaves          2338\n",
            "Freezers            2210\n",
            "fridge               123\n",
            "CPU                   84\n",
            "Mobile Phone          55\n",
            "Name: count, dtype: int64\n"
          ]
        },
        {
          "output_type": "execute_result",
          "data": {
            "text/plain": [
              "product id           int64\n",
              "product title       object\n",
              "merchant id          int64\n",
              "category label      object\n",
              "_product code       object\n",
              "number_of_views    float64\n",
              "merchant rating    float64\n",
              "listing date        object\n",
              "dtype: object"
            ],
            "text/html": [
              "<div>\n",
              "<style scoped>\n",
              "    .dataframe tbody tr th:only-of-type {\n",
              "        vertical-align: middle;\n",
              "    }\n",
              "\n",
              "    .dataframe tbody tr th {\n",
              "        vertical-align: top;\n",
              "    }\n",
              "\n",
              "    .dataframe thead th {\n",
              "        text-align: right;\n",
              "    }\n",
              "</style>\n",
              "<table border=\"1\" class=\"dataframe\">\n",
              "  <thead>\n",
              "    <tr style=\"text-align: right;\">\n",
              "      <th></th>\n",
              "      <th>0</th>\n",
              "    </tr>\n",
              "  </thead>\n",
              "  <tbody>\n",
              "    <tr>\n",
              "      <th>product id</th>\n",
              "      <td>int64</td>\n",
              "    </tr>\n",
              "    <tr>\n",
              "      <th>product title</th>\n",
              "      <td>object</td>\n",
              "    </tr>\n",
              "    <tr>\n",
              "      <th>merchant id</th>\n",
              "      <td>int64</td>\n",
              "    </tr>\n",
              "    <tr>\n",
              "      <th>category label</th>\n",
              "      <td>object</td>\n",
              "    </tr>\n",
              "    <tr>\n",
              "      <th>_product code</th>\n",
              "      <td>object</td>\n",
              "    </tr>\n",
              "    <tr>\n",
              "      <th>number_of_views</th>\n",
              "      <td>float64</td>\n",
              "    </tr>\n",
              "    <tr>\n",
              "      <th>merchant rating</th>\n",
              "      <td>float64</td>\n",
              "    </tr>\n",
              "    <tr>\n",
              "      <th>listing date</th>\n",
              "      <td>object</td>\n",
              "    </tr>\n",
              "  </tbody>\n",
              "</table>\n",
              "</div><br><label><b>dtype:</b> object</label>"
            ]
          },
          "metadata": {},
          "execution_count": 53
        }
      ]
    },
    {
      "cell_type": "markdown",
      "source": [
        "#Data cleaning\n"
      ],
      "metadata": {
        "id": "SFFXH7_haVnr"
      }
    },
    {
      "cell_type": "code",
      "source": [
        "category_map = {\n",
        "    'Fridges': 'Fridge Freezers',\n",
        "    'fridge': 'Fridge Freezers',\n",
        "    'Fridge Freezers': 'Fridge Freezers',\n",
        "    'Mobile Phone': 'Mobile Phones',\n",
        "    'Mobile Phones': 'Mobile Phones',\n",
        "    'CPU': 'CPUs',\n",
        "    'CPUs': 'CPUs',\n",
        "    'TVs': 'TVs',\n",
        "    'Freezers': 'Freezers',\n",
        "    'Washing Machines': 'Washing Machines',\n",
        "    'Dishwashers': 'Dishwashers',\n",
        "    'Digital Cameras': 'Digital Cameras',\n",
        "    'Microwaves': 'Microwaves'\n",
        "}\n",
        "df[\"category\"] = df['category label'].map(category_map).fillna(df['category label'])\n",
        "\n",
        "df.drop_duplicates()\n",
        "df[\"product title\"] = df[\"product title\"].str.strip()\n",
        "df[\"category\"] = df[\"category\"].astype(\"category\")\n",
        "df[\"product title\"] = df[\"product title\"].astype(\"string\")\n",
        "df = df[[\"product title\", \"category\"]]\n",
        "\n",
        "\n",
        "df.dropna(subset = [\"product title\", \"category\"],inplace = True)\n",
        "\n",
        "\n",
        "\n",
        "\n",
        "print(df.head())\n",
        "print(df.dtypes)\n"
      ],
      "metadata": {
        "colab": {
          "base_uri": "https://localhost:8080/"
        },
        "id": "CxtSDcfifAHT",
        "outputId": "88fe9b93-3e1b-4343-fe86-7ed691a00ad8"
      },
      "execution_count": 54,
      "outputs": [
        {
          "output_type": "stream",
          "name": "stdout",
          "text": [
            "                                       product title       category\n",
            "0                    apple iphone 8 plus 64gb silver  Mobile Phones\n",
            "1                apple iphone 8 plus 64 gb spacegrau  Mobile Phones\n",
            "2  apple mq8n2b/a iphone 8 plus 64gb 5.5 12mp sim...  Mobile Phones\n",
            "3                apple iphone 8 plus 64gb space grey  Mobile Phones\n",
            "4  apple iphone 8 plus gold 5.5 64gb 4g unlocked ...  Mobile Phones\n",
            "product title    string[python]\n",
            "category               category\n",
            "dtype: object\n"
          ]
        }
      ]
    },
    {
      "cell_type": "markdown",
      "source": [
        "#Train/Test split"
      ],
      "metadata": {
        "id": "--KBNz34vT_X"
      }
    },
    {
      "cell_type": "code",
      "source": [
        "X = df['product title']\n",
        "y = df['category']\n",
        "\n",
        "# Split data\n",
        "X_train, X_test, y_train, y_test = train_test_split(X, y, test_size=0.2, random_state=42)\n"
      ],
      "metadata": {
        "id": "DMR_oSF4vvVn"
      },
      "execution_count": 55,
      "outputs": []
    },
    {
      "cell_type": "markdown",
      "source": [
        "## Vectorization (TF-IDF)\n"
      ],
      "metadata": {
        "id": "pBTtDeoOhMMQ"
      }
    },
    {
      "cell_type": "code",
      "source": [
        "# Transform text into numerical vectors\n",
        "vectorizer = TfidfVectorizer()\n",
        "X_train_tfidf = vectorizer.fit_transform(X_train)\n",
        "X_test_tfidf = vectorizer.transform(X_test)\n"
      ],
      "metadata": {
        "id": "fv1_UodgukvE"
      },
      "execution_count": 56,
      "outputs": []
    },
    {
      "cell_type": "markdown",
      "source": [
        "## Train models"
      ],
      "metadata": {
        "id": "4fCfOl8by405"
      }
    },
    {
      "cell_type": "code",
      "source": [
        "models = {\n",
        "    \"Logistic Regression\": LogisticRegression(max_iter=1000),\n",
        "    \"Naive Bayes\": MultinomialNB(),\n",
        "    \"Decision Tree\": DecisionTreeClassifier(),\n",
        "    \"Linear SVM\": LinearSVC()\n",
        "}\n",
        "\n",
        "results = {}\n",
        "\n",
        "\n",
        "for name, model in models.items():\n",
        "    model.fit(X_train_tfidf, y_train)\n",
        "    preds = model.predict(X_test_tfidf)\n",
        "    acc = accuracy_score(y_test, preds)\n",
        "    results[name] = acc\n",
        "    print(f\"--- {name} ---\")\n",
        "    print(\"Accuracy:\", acc)\n",
        "    print(classification_report(y_test, preds))\n",
        "    print()\n",
        "\n",
        ""
      ],
      "metadata": {
        "colab": {
          "base_uri": "https://localhost:8080/"
        },
        "id": "iPG_0yQYy7hR",
        "outputId": "75c216f2-f160-42e5-a61b-5b805f1f6b26"
      },
      "execution_count": 57,
      "outputs": [
        {
          "output_type": "stream",
          "name": "stdout",
          "text": [
            "--- Logistic Regression ---\n",
            "Accuracy: 0.9631054131054131\n",
            "                  precision    recall  f1-score   support\n",
            "\n",
            "            CPUs       1.00      1.00      1.00       740\n",
            " Digital Cameras       0.99      0.99      0.99       535\n",
            "     Dishwashers       0.96      0.92      0.94       684\n",
            "        Freezers       0.99      0.85      0.92       422\n",
            " Fridge Freezers       0.91      0.98      0.94      1818\n",
            "      Microwaves       0.99      0.94      0.97       464\n",
            "   Mobile Phones       0.99      0.98      0.99       812\n",
            "             TVs       0.97      0.98      0.98       724\n",
            "Washing Machines       0.98      0.93      0.96       821\n",
            "\n",
            "        accuracy                           0.96      7020\n",
            "       macro avg       0.98      0.95      0.96      7020\n",
            "    weighted avg       0.96      0.96      0.96      7020\n",
            "\n",
            "\n",
            "--- Naive Bayes ---\n",
            "Accuracy: 0.9330484330484331\n",
            "                  precision    recall  f1-score   support\n",
            "\n",
            "            CPUs       1.00      1.00      1.00       740\n",
            " Digital Cameras       0.99      1.00      1.00       535\n",
            "     Dishwashers       0.99      0.91      0.95       684\n",
            "        Freezers       1.00      0.22      0.36       422\n",
            " Fridge Freezers       0.80      1.00      0.89      1818\n",
            "      Microwaves       1.00      0.95      0.97       464\n",
            "   Mobile Phones       1.00      0.98      0.99       812\n",
            "             TVs       0.99      0.99      0.99       724\n",
            "Washing Machines       0.99      0.96      0.98       821\n",
            "\n",
            "        accuracy                           0.93      7020\n",
            "       macro avg       0.97      0.89      0.90      7020\n",
            "    weighted avg       0.95      0.93      0.92      7020\n",
            "\n",
            "\n",
            "--- Decision Tree ---\n",
            "Accuracy: 0.9552706552706552\n",
            "                  precision    recall  f1-score   support\n",
            "\n",
            "            CPUs       1.00      1.00      1.00       740\n",
            " Digital Cameras       0.98      0.97      0.98       535\n",
            "     Dishwashers       0.96      0.90      0.93       684\n",
            "        Freezers       0.94      0.87      0.91       422\n",
            " Fridge Freezers       0.94      0.97      0.95      1818\n",
            "      Microwaves       0.97      0.94      0.95       464\n",
            "   Mobile Phones       0.95      0.98      0.97       812\n",
            "             TVs       0.97      0.97      0.97       724\n",
            "Washing Machines       0.92      0.94      0.93       821\n",
            "\n",
            "        accuracy                           0.96      7020\n",
            "       macro avg       0.96      0.95      0.95      7020\n",
            "    weighted avg       0.96      0.96      0.96      7020\n",
            "\n",
            "\n",
            "--- Linear SVM ---\n",
            "Accuracy: 0.971937321937322\n",
            "                  precision    recall  f1-score   support\n",
            "\n",
            "            CPUs       1.00      1.00      1.00       740\n",
            " Digital Cameras       0.99      1.00      0.99       535\n",
            "     Dishwashers       0.96      0.94      0.95       684\n",
            "        Freezers       0.98      0.91      0.95       422\n",
            " Fridge Freezers       0.94      0.98      0.96      1818\n",
            "      Microwaves       0.99      0.97      0.98       464\n",
            "   Mobile Phones       1.00      0.98      0.99       812\n",
            "             TVs       0.97      0.99      0.98       724\n",
            "Washing Machines       0.98      0.94      0.96       821\n",
            "\n",
            "        accuracy                           0.97      7020\n",
            "       macro avg       0.98      0.97      0.97      7020\n",
            "    weighted avg       0.97      0.97      0.97      7020\n",
            "\n",
            "\n"
          ]
        }
      ]
    },
    {
      "cell_type": "markdown",
      "source": [
        "# Compare models"
      ],
      "metadata": {
        "id": "3_LB1a3nzsd4"
      }
    },
    {
      "cell_type": "code",
      "source": [
        "\n",
        "plt.figure(figsize=(8,5))\n",
        "plt.bar(results.keys(), results.values(), color=\"skyblue\")\n",
        "plt.title(\"Model Accuracy Comparison\")\n",
        "plt.ylabel(\"Accuracy\")\n",
        "plt.xticks(rotation=45)\n",
        "plt.grid()\n",
        "plt.show()\n"
      ],
      "metadata": {
        "colab": {
          "base_uri": "https://localhost:8080/",
          "height": 558
        },
        "id": "dE_Obc8nzxOb",
        "outputId": "888a542d-7ae5-4b97-f26f-532800031da2"
      },
      "execution_count": 58,
      "outputs": [
        {
          "output_type": "display_data",
          "data": {
            "text/plain": [
              "<Figure size 800x500 with 1 Axes>"
            ],
            "image/png": "[encoded data removed]"
          },
          "metadata": {}
        }
      ]
    },
    {
      "cell_type": "markdown",
      "source": [
        "## Confusion Matrix\n",
        "\n"
      ],
      "metadata": {
        "id": "iza1mpnG0Svm"
      }
    },
    {
      "cell_type": "code",
      "source": [
        "# Choose the best model\n",
        "best_model_name = max(results, key=results.get)\n",
        "best_model = models[best_model_name]\n",
        "print(f\"Best model name is {best_model}\")\n",
        "\n",
        "# Predictions\n",
        "y_pred = best_model.predict(X_test_tfidf)\n",
        "\n",
        "# Confusion matrix\n",
        "cm = confusion_matrix(y_test, y_pred)\n",
        "\n",
        "plt.figure(figsize=(8,6))\n",
        "sns.heatmap(cm, annot=True, fmt=\"d\", cmap=\"Blues\")\n",
        "plt.title(f\"Confusion Matrix - {best_model_name}\")\n",
        "plt.xlabel(\"Predicted\")\n",
        "plt.ylabel(\"True\")\n",
        "plt.show()\n"
      ],
      "metadata": {
        "colab": {
          "base_uri": "https://localhost:8080/",
          "height": 582
        },
        "id": "ermF5nFu0WnN",
        "outputId": "a88f1bf3-accd-4ad4-d8dc-e1c7e6099eb0"
      },
      "execution_count": 59,
      "outputs": [
        {
          "output_type": "stream",
          "name": "stdout",
          "text": [
            "Best model name is LinearSVC()\n"
          ]
        },
        {
          "output_type": "display_data",
          "data": {
            "text/plain": [
              "<Figure size 800x600 with 2 Axes>"
            ],
            "image/png": "[encoded data removed]"
          },
          "metadata": {}
        }
      ]
    },
    {
      "cell_type": "markdown",
      "source": [
        "## Conclusions\n",
        "\n",
        "- The best performing model was selected based on accuracy.  \n",
        "- Logistic Regression or Linear SVM usually perform best on text classification.  \n",
        "- Further improvements could include hyperparameter tuning and deep learning models.\n"
      ],
      "metadata": {
        "id": "Y22O0kqh0XAL"
      }
    }
  ]
}